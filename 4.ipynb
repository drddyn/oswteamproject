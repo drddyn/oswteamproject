{
 "cells": [
  {
   "cell_type": "code",
   "execution_count": 9,
   "id": "8068e7b4",
   "metadata": {
    "scrolled": true
   },
   "outputs": [
    {
     "name": "stdout",
     "output_type": "stream",
     "text": [
      "Note: you may need to restart the kernel to use updated packages.Defaulting to user installation because normal site-packages is not writeable\n",
      "Collecting https://github.com/yt-dlp/yt-dlp/archive/master.tar.gz\n",
      "  Using cached https://github.com/yt-dlp/yt-dlp/archive/master.tar.gz (2.4 MB)\n",
      "  Installing build dependencies: started\n",
      "  Installing build dependencies: finished with status 'done'\n",
      "  Getting requirements to build wheel: started\n",
      "  Getting requirements to build wheel: finished with status 'done'\n",
      "  Installing backend dependencies: started\n",
      "  Installing backend dependencies: finished with status 'done'\n",
      "  Preparing metadata (pyproject.toml): started\n",
      "  Preparing metadata (pyproject.toml): finished with status 'done'\n",
      "Collecting websockets\n",
      "  Using cached websockets-11.0.3-cp310-cp310-win_amd64.whl (124 kB)\n",
      "Collecting brotli\n",
      "  Using cached Brotli-1.0.9-cp310-cp310-win_amd64.whl (383 kB)\n",
      "Collecting certifi\n",
      "  Using cached certifi-2023.5.7-py3-none-any.whl (156 kB)\n",
      "Collecting pycryptodomex\n",
      "  Using cached pycryptodomex-3.18.0-cp35-abi3-win_amd64.whl (1.7 MB)\n",
      "Collecting mutagen\n",
      "  Using cached mutagen-1.46.0-py3-none-any.whl (193 kB)\n",
      "Building wheels for collected packages: yt-dlp\n",
      "  Building wheel for yt-dlp (pyproject.toml): started\n",
      "  Building wheel for yt-dlp (pyproject.toml): finished with status 'done'\n",
      "  Created wheel for yt-dlp: filename=yt_dlp-2023.3.4-py2.py3-none-any.whl size=2750220 sha256=4cb300c43573bd61d9b437760e3fc3c1c314f9270766087e17611636d3709352\n",
      "  Stored in directory: C:\\Users\\40771\\AppData\\Local\\Temp\\pip-ephem-wheel-cache-jtd1n8z4\\wheels\\4c\\91\\d1\\c5369304e2f7afb660bb6eee093af5a7d3c0ea05a3c1e8c797\n",
      "Successfully built yt-dlp\n",
      "Installing collected packages: brotli, websockets, pycryptodomex, mutagen, certifi, yt-dlp\n",
      "  Attempting uninstall: brotli\n",
      "    Found existing installation: Brotli 1.0.9\n",
      "    Uninstalling Brotli-1.0.9:\n",
      "      Successfully uninstalled Brotli-1.0.9\n",
      "  Attempting uninstall: websockets\n",
      "    Found existing installation: websockets 11.0.3\n",
      "    Uninstalling websockets-11.0.3:\n",
      "      Successfully uninstalled websockets-11.0.3\n",
      "  Attempting uninstall: pycryptodomex\n",
      "    Found existing installation: pycryptodomex 3.18.0\n",
      "    Uninstalling pycryptodomex-3.18.0:\n",
      "      Successfully uninstalled pycryptodomex-3.18.0\n",
      "\n"
     ]
    },
    {
     "name": "stderr",
     "output_type": "stream",
     "text": [
      "WARNING: Ignoring invalid distribution -rotli (c:\\users\\40771\\appdata\\roaming\\python\\python310\\site-packages)\n",
      "WARNING: Ignoring invalid distribution -rotli (c:\\users\\40771\\appdata\\roaming\\python\\python310\\site-packages)\n",
      "WARNING: Ignoring invalid distribution -rotli (c:\\users\\40771\\appdata\\roaming\\python\\python310\\site-packages)\n",
      "    WARNING: Ignoring invalid distribution -rotli (c:\\users\\40771\\appdata\\roaming\\python\\python310\\site-packages)\n",
      "    WARNING: Ignoring invalid distribution -rotli (c:\\users\\40771\\appdata\\roaming\\python\\python310\\site-packages)\n",
      "    WARNING: Ignoring invalid distribution -rotli (c:\\users\\40771\\appdata\\roaming\\python\\python310\\site-packages)\n",
      "ERROR: Could not install packages due to an OSError: [WinError 5] 拒绝访问。: 'C:\\\\Users\\\\40771\\\\AppData\\\\Roaming\\\\Python\\\\Python310\\\\site-packages\\\\~ryptodome\\\\Cipher\\\\_pkcs1_decode.pyd'\n",
      "Check the permissions.\n",
      "\n",
      "WARNING: Ignoring invalid distribution -rotli (c:\\users\\40771\\appdata\\roaming\\python\\python310\\site-packages)\n",
      "WARNING: Ignoring invalid distribution -rotli (c:\\users\\40771\\appdata\\roaming\\python\\python310\\site-packages)\n",
      "WARNING: Ignoring invalid distribution -rotli (c:\\users\\40771\\appdata\\roaming\\python\\python310\\site-packages)\n"
     ]
    }
   ],
   "source": [
    "pip install --force-reinstall https://github.com/yt-dlp/yt-dlp/archive/master.tar.gz"
   ]
  },
  {
   "cell_type": "code",
   "execution_count": 11,
   "id": "6a33a17f",
   "metadata": {},
   "outputs": [
    {
     "ename": "FileNotFoundError",
     "evalue": "Could not find module 'C:\\Users\\40771\\libvlc.dll' (or one of its dependencies). Try using the full path with constructor syntax.",
     "output_type": "error",
     "traceback": [
      "\u001b[1;31m---------------------------------------------------------------------------\u001b[0m",
      "\u001b[1;31mFileNotFoundError\u001b[0m                         Traceback (most recent call last)",
      "Cell \u001b[1;32mIn[11], line 7\u001b[0m\n\u001b[0;32m      4\u001b[0m \u001b[38;5;28;01mimport\u001b[39;00m \u001b[38;5;21;01mplatform\u001b[39;00m\n\u001b[0;32m      6\u001b[0m \u001b[38;5;28;01mfrom\u001b[39;00m \u001b[38;5;21;01mPyQt5\u001b[39;00m \u001b[38;5;28;01mimport\u001b[39;00m QtWidgets, QtGui, QtCore\n\u001b[1;32m----> 7\u001b[0m \u001b[38;5;28;01mimport\u001b[39;00m \u001b[38;5;21;01mvlc\u001b[39;00m\n\u001b[0;32m      8\u001b[0m \u001b[38;5;28;01mfrom\u001b[39;00m \u001b[38;5;21;01mnetwork\u001b[39;00m \u001b[38;5;28;01mimport\u001b[39;00m Client\n\u001b[0;32m     11\u001b[0m \u001b[38;5;28;01mclass\u001b[39;00m \u001b[38;5;21;01mMiniPlayer\u001b[39;00m(QtWidgets\u001b[38;5;241m.\u001b[39mQMainWindow):\n",
      "File \u001b[1;32m~\\AppData\\Roaming\\Python\\Python310\\site-packages\\vlc.py:220\u001b[0m\n\u001b[0;32m    217\u001b[0m     \u001b[38;5;28;01mreturn\u001b[39;00m (dll, plugin_path)\n\u001b[0;32m    219\u001b[0m \u001b[38;5;66;03m# plugin_path used on win32 and MacOS in override.py\u001b[39;00m\n\u001b[1;32m--> 220\u001b[0m dll, plugin_path  \u001b[38;5;241m=\u001b[39m \u001b[43mfind_lib\u001b[49m\u001b[43m(\u001b[49m\u001b[43m)\u001b[49m\n\u001b[0;32m    222\u001b[0m \u001b[38;5;28;01mclass\u001b[39;00m \u001b[38;5;21;01mVLCException\u001b[39;00m(\u001b[38;5;167;01mException\u001b[39;00m):\n\u001b[0;32m    223\u001b[0m     \u001b[38;5;124;03m\"\"\"Exception raised by libvlc methods.\u001b[39;00m\n\u001b[0;32m    224\u001b[0m \u001b[38;5;124;03m    \"\"\"\u001b[39;00m\n",
      "File \u001b[1;32m~\\AppData\\Roaming\\Python\\Python310\\site-packages\\vlc.py:180\u001b[0m, in \u001b[0;36mfind_lib\u001b[1;34m()\u001b[0m\n\u001b[0;32m    178\u001b[0m         os\u001b[38;5;241m.\u001b[39mchdir(p)\n\u001b[0;32m    179\u001b[0m     \u001b[38;5;28;01melse\u001b[39;00m:  \u001b[38;5;66;03m# may fail\u001b[39;00m\n\u001b[1;32m--> 180\u001b[0m         dll \u001b[38;5;241m=\u001b[39m \u001b[43mctypes\u001b[49m\u001b[38;5;241;43m.\u001b[39;49m\u001b[43mCDLL\u001b[49m\u001b[43m(\u001b[49m\u001b[38;5;124;43m'\u001b[39;49m\u001b[38;5;124;43m.\u001b[39;49m\u001b[38;5;130;43;01m\\\\\u001b[39;49;00m\u001b[38;5;124;43m'\u001b[39;49m\u001b[43m \u001b[49m\u001b[38;5;241;43m+\u001b[39;49m\u001b[43m \u001b[49m\u001b[43mlibname\u001b[49m\u001b[43m)\u001b[49m\n\u001b[0;32m    181\u001b[0m \u001b[38;5;28;01melse\u001b[39;00m:\n\u001b[0;32m    182\u001b[0m     plugin_path \u001b[38;5;241m=\u001b[39m os\u001b[38;5;241m.\u001b[39mpath\u001b[38;5;241m.\u001b[39mdirname(p)\n",
      "File \u001b[1;32mD:\\Program Files\\conda\\lib\\ctypes\\__init__.py:374\u001b[0m, in \u001b[0;36mCDLL.__init__\u001b[1;34m(self, name, mode, handle, use_errno, use_last_error, winmode)\u001b[0m\n\u001b[0;32m    371\u001b[0m \u001b[38;5;28mself\u001b[39m\u001b[38;5;241m.\u001b[39m_FuncPtr \u001b[38;5;241m=\u001b[39m _FuncPtr\n\u001b[0;32m    373\u001b[0m \u001b[38;5;28;01mif\u001b[39;00m handle \u001b[38;5;129;01mis\u001b[39;00m \u001b[38;5;28;01mNone\u001b[39;00m:\n\u001b[1;32m--> 374\u001b[0m     \u001b[38;5;28mself\u001b[39m\u001b[38;5;241m.\u001b[39m_handle \u001b[38;5;241m=\u001b[39m \u001b[43m_dlopen\u001b[49m\u001b[43m(\u001b[49m\u001b[38;5;28;43mself\u001b[39;49m\u001b[38;5;241;43m.\u001b[39;49m\u001b[43m_name\u001b[49m\u001b[43m,\u001b[49m\u001b[43m \u001b[49m\u001b[43mmode\u001b[49m\u001b[43m)\u001b[49m\n\u001b[0;32m    375\u001b[0m \u001b[38;5;28;01melse\u001b[39;00m:\n\u001b[0;32m    376\u001b[0m     \u001b[38;5;28mself\u001b[39m\u001b[38;5;241m.\u001b[39m_handle \u001b[38;5;241m=\u001b[39m handle\n",
      "\u001b[1;31mFileNotFoundError\u001b[0m: Could not find module 'C:\\Users\\40771\\libvlc.dll' (or one of its dependencies). Try using the full path with constructor syntax."
     ]
    }
   ],
   "source": [
    "import os\n",
    "import sys\n",
    "import queue\n",
    "import platform\n",
    "\n",
    "from PyQt5 import QtWidgets, QtGui, QtCore\n",
    "import vlc\n",
    "from network import Client\n",
    "\n",
    "\n",
    "class MiniPlayer(QtWidgets.QMainWindow):\n",
    "    \"\"\"Stripped-down PyQt5-based media player class to sync with \"master\" video.\n",
    "    \"\"\"\n",
    "\n",
    "    def __init__(self, data_queue, master=None):\n",
    "        QtWidgets.QMainWindow.__init__(self, master)\n",
    "        self.setWindowTitle(\"Mini Player\")\n",
    "        self.statusbar = self.statusBar()\n",
    "        self.statusbar.showMessage(\"Ready\")\n",
    "\n",
    "        # Create a basic vlc instance\n",
    "        self.instance = vlc.Instance()\n",
    "\n",
    "        self.media = self.instance.media_new(filename[0])\n",
    "\n",
    "        self.init_ui()\n",
    "        self.open_file()\n",
    "\n",
    "        self.timer = QtCore.QTimer(self)\n",
    "        self.timer.setInterval(10)\n",
    "        self.timer.timeout.connect(self.update_ui)\n",
    "\n",
    "        self.data_queue = data_queue\n",
    "        self.timer.start()\n",
    "\n",
    "    def init_ui(self):\n",
    "        \"\"\"Set up the user interface\n",
    "        \"\"\"\n",
    "        self.widget = QtWidgets.QWidget(self)\n",
    "        self.setCentralWidget(self.widget)\n",
    "\n",
    "        # In this widget, the video will be drawn\n",
    "        if platform.system() == \"Darwin\":  # for MacOS\n",
    "            self.videoframe = QtWidgets.QMacCocoaViewContainer(0)\n",
    "        else:\n",
    "            self.videoframe = QtWidgets.QFrame()\n",
    "\n",
    "        self.palette = self.videoframe.palette()\n",
    "        self.palette.setColor(QtGui.QPalette.Window, QtGui.QColor(0, 0, 0))\n",
    "        self.videoframe.setPalette(self.palette)\n",
    "        self.videoframe.setAutoFillBackground(True)\n",
    "\n",
    "        self.vboxlayout = QtWidgets.QVBoxLayout()\n",
    "        self.vboxlayout.addWidget(self.videoframe)\n",
    "        self.widget.setLayout(self.vboxlayout)\n",
    "\n",
    "    def open_file(self):\n",
    "        \"\"\"Open a media file in a MediaPlayer\n",
    "        \"\"\"\n",
    "        dialog_txt = \"Choose Media File\"\n",
    "        filename = QtWidgets.QFileDialog.getOpenFileName(self, dialog_txt, os.path.expanduser('~'))\n",
    "        if not filename[0]:\n",
    "            return\n",
    "\n",
    "        "
   ]
  },
  {
   "cell_type": "code",
   "execution_count": 12,
   "id": "93584cae",
   "metadata": {},
   "outputs": [
    {
     "name": "stdout",
     "output_type": "stream",
     "text": [
      "Defaulting to user installation because normal site-packages is not writeableNote: you may need to restart the kernel to use updated packages.\n"
     ]
    },
    {
     "name": "stderr",
     "output_type": "stream",
     "text": [
      "WARNING: Ignoring invalid distribution -ycryptodomex (c:\\users\\40771\\appdata\\roaming\\python\\python310\\site-packages)\n",
      "WARNING: Ignoring invalid distribution -rotli (c:\\users\\40771\\appdata\\roaming\\python\\python310\\site-packages)\n",
      "WARNING: Ignoring invalid distribution -ycryptodomex (c:\\users\\40771\\appdata\\roaming\\python\\python310\\site-packages)\n",
      "WARNING: Ignoring invalid distribution -rotli (c:\\users\\40771\\appdata\\roaming\\python\\python310\\site-packages)\n",
      "WARNING: Ignoring invalid distribution -ycryptodomex (c:\\users\\40771\\appdata\\roaming\\python\\python310\\site-packages)\n",
      "WARNING: Ignoring invalid distribution -rotli (c:\\users\\40771\\appdata\\roaming\\python\\python310\\site-packages)\n",
      "WARNING: Ignoring invalid distribution -ycryptodomex (c:\\users\\40771\\appdata\\roaming\\python\\python310\\site-packages)\n",
      "WARNING: Ignoring invalid distribution -rotli (c:\\users\\40771\\appdata\\roaming\\python\\python310\\site-packages)\n",
      "WARNING: Ignoring invalid distribution -ycryptodomex (c:\\users\\40771\\appdata\\roaming\\python\\python310\\site-packages)\n",
      "WARNING: Ignoring invalid distribution -rotli (c:\\users\\40771\\appdata\\roaming\\python\\python310\\site-packages)\n",
      "WARNING: Ignoring invalid distribution -ycryptodomex (c:\\users\\40771\\appdata\\roaming\\python\\python310\\site-packages)\n",
      "WARNING: Ignoring invalid distribution -rotli (c:\\users\\40771\\appdata\\roaming\\python\\python310\\site-packages)\n"
     ]
    },
    {
     "name": "stdout",
     "output_type": "stream",
     "text": [
      "\n",
      "Requirement already satisfied: python-vlc in c:\\users\\40771\\appdata\\roaming\\python\\python310\\site-packages (3.0.18122)\n"
     ]
    }
   ],
   "source": [
    "pip install python-vlc"
   ]
  },
  {
   "cell_type": "code",
   "execution_count": 13,
   "id": "3eedd838",
   "metadata": {},
   "outputs": [],
   "source": [
    "# pip show python-vlc "
   ]
  },
  {
   "cell_type": "code",
   "execution_count": 14,
   "id": "9a715bb4",
   "metadata": {},
   "outputs": [
    {
     "name": "stdout",
     "output_type": "stream",
     "text": [
      "[Youtube] Lr9xbHtpAfU: has already been recorded in the archive\n"
     ]
    }
   ],
   "source": [
    "from __future__ import unicode_literals\n",
    "import yt_dlp as youtube_dl\n",
    "\n",
    "def my_hook(d):\n",
    "    if d['status'] == 'finished':\n",
    "        print('Done downloading, now converting ...')\n",
    "\n",
    "ydl_opts = {\n",
    "    'download_archive': 'archive.txt',\n",
    "    'ignoreerrors': True,\n",
    "    'nooverwrites': True,\n",
    "    'format': 'bestvideo[height<=1080]+bestaudio/best[height<=1080]/best',       \n",
    "    'outtmpl': '저장 경로 템플릿',        \n",
    "    'noplaylist' : False,       \n",
    "    'progress_hooks': [my_hook],  \n",
    "}\n",
    "\n",
    "with youtube_dl.YoutubeDL(ydl_opts) as ydl:\n",
    "    ydl.download(['http://www.youtube.com/watch?v=Lr9xbHtpAfU'])"
   ]
  },
  {
   "cell_type": "code",
   "execution_count": null,
   "id": "94ff43af",
   "metadata": {},
   "outputs": [],
   "source": []
  }
 ],
 "metadata": {
  "kernelspec": {
   "display_name": "Python 3 (ipykernel)",
   "language": "python",
   "name": "python3"
  },
  "language_info": {
   "codemirror_mode": {
    "name": "ipython",
    "version": 3
   },
   "file_extension": ".py",
   "mimetype": "text/x-python",
   "name": "python",
   "nbconvert_exporter": "python",
   "pygments_lexer": "ipython3",
   "version": "3.10.9"
  }
 },
 "nbformat": 4,
 "nbformat_minor": 5
}
